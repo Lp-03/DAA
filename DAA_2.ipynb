{
  "nbformat": 4,
  "nbformat_minor": 0,
  "metadata": {
    "colab": {
      "provenance": []
    },
    "kernelspec": {
      "name": "python3",
      "display_name": "Python 3"
    },
    "language_info": {
      "name": "python"
    }
  },
  "cells": [
    {
      "cell_type": "code",
      "execution_count": 2,
      "metadata": {
        "colab": {
          "base_uri": "https://localhost:8080/"
        },
        "id": "iFVX7F7K5Lfe",
        "outputId": "630f32c6-77b7-4c78-8f67-d3996e507746"
      },
      "outputs": [
        {
          "output_type": "stream",
          "name": "stdout",
          "text": [
            "c -> 0\n",
            "b -> 100\n",
            "d -> 101\n",
            "a -> 11\n"
          ]
        }
      ],
      "source": [
        "import heapq\n",
        "\n",
        "# Creating Huffman tree node\n",
        "class node:\n",
        "    def __init__(self,freq,symbol,left=None,right=None):\n",
        "        self.freq=freq # frequency of symbol\n",
        "        self.symbol=symbol # symbol name (character)\n",
        "        self.left=left # node left of current node\n",
        "        self.right=right # node right of current node\n",
        "        self.huff= '' # # tree direction (0/1)\n",
        "\n",
        "    def __lt__(self,nxt): # Check if curr frequency less than next nodes freq\n",
        "        return self.freq<nxt.freq\n",
        "\n",
        "def printnodes(node,val=''):\n",
        "    newval=val+str(node.huff)\n",
        "    # if node is not an edge node then traverse inside it\n",
        "    if node.left:\n",
        "        printnodes(node.left,newval)\n",
        "    if node.right:\n",
        "        printnodes(node.right,newval)\n",
        "\n",
        "    # if node is edge node then display its huffman code\n",
        "    if not node.left and not node.right:\n",
        "        print(\"{} -> {}\".format(node.symbol,newval))\n",
        "\n",
        "if __name__==\"__main__\":\n",
        "    chars = ['b','d','a','c']\n",
        "    freq = [ 1,3,5,6]\n",
        "    nodes=[]\n",
        "\n",
        "    for i in range(len(chars)): # converting characters and frequencies into huffman tree nodes\n",
        "        heapq.heappush(nodes, node(freq[i],chars[i]))\n",
        "\n",
        "    while len(nodes)>1:\n",
        "        left=heapq.heappop(nodes)\n",
        "        right=heapq.heappop(nodes)\n",
        "\n",
        "        left.huff = 0\n",
        "        right.huff = 1\n",
        "        # Combining the 2 smallest nodes to create new node as their parent\n",
        "        newnode = node(left.freq + right.freq , left.symbol + right.symbol , left , right)\n",
        "        # node(freq,symbol,left,right)\n",
        "        heapq.heappush(nodes, newnode)\n",
        "\n",
        "    printnodes(nodes[0]) # Passing root of Huffman Tree"
      ]
    }
  ]
}